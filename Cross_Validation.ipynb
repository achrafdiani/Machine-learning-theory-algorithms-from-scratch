{
  "nbformat": 4,
  "nbformat_minor": 0,
  "metadata": {
    "colab": {
      "provenance": []
    },
    "kernelspec": {
      "name": "python3",
      "display_name": "Python 3"
    },
    "language_info": {
      "name": "python"
    }
  },
  "cells": [
    {
      "cell_type": "markdown",
      "source": [
        "##Validation"
      ],
      "metadata": {
        "id": "pJG-j3kSfpSY"
      }
    },
    {
      "cell_type": "markdown",
      "source": [
        "Using this code, we can split the data into a\n",
        "training set and a validation set using a ratio (80%)"
      ],
      "metadata": {
        "id": "2UkCeyKqfuBO"
      }
    },
    {
      "cell_type": "code",
      "execution_count": 1,
      "metadata": {
        "id": "-HbOofF9e3tP"
      },
      "outputs": [],
      "source": [
        "import numpy as np\n",
        "from random import randrange\n",
        "\n",
        "def split(data, p = 0.2):\n",
        "  ## description: split data into training and validation sets\n",
        "    ## args:\n",
        "        ##data: list of data points\n",
        "        ##p: proportion of data in validation set\n",
        "   ## return: training and validation sets\n",
        "\n",
        "    training = np.copy(data) # copy of data to avoid modifying data\n",
        "    validation = list()\n",
        "    m = len(data)\n",
        "    k = int(m * p) # number of data points in validation set\n",
        "    for i in range(k):\n",
        "        ind = randrange(len(training)) # choose a random index in training set\n",
        "        validation.append(training[ind]) # add the data point at the index to the validation set\n",
        "        training = np.delete(training, ind, 0) # remove the data point at the index from the training set\n",
        "    return np.asarray(training), np.asarray(validation)"
      ]
    },
    {
      "cell_type": "markdown",
      "source": [
        "##Cross-Validation using k-fold"
      ],
      "metadata": {
        "id": "iui2AViIgMtN"
      }
    },
    {
      "cell_type": "code",
      "source": [
        "import csv\n",
        "import numpy as np\n",
        "from random import randrange\n",
        "\n",
        "def divisors(m):\n",
        "    \"\"\"\n",
        "    description: list of divisors of m\n",
        "    args:\n",
        "        m: integer\n",
        "    return: list of divisors of m\n",
        "    \"\"\"\n",
        "    div = set([m]) # set of divisors\n",
        "    for i in range(2, int(m**(0.5))+1): # divisors are between 2 and sqrt(m)\n",
        "        if m % i == 0: # if i is a divisor of m\n",
        "            div.add(i) # add i to the set\n",
        "            div.add(m//i) # add m//i to the set\n",
        "    return list(div)\n",
        "\n",
        "def k_fold(data):\n",
        "    \"\"\"\n",
        "    description: k-fold cross validation partitions of data\n",
        "    args:\n",
        "        data: list of data points\n",
        "    return: list of k partitions of data\n",
        "    \"\"\"\n",
        "    partitions = list() # list of k partitions of data\n",
        "    data_ = list(data) # copy of data to avoid modifying data\n",
        "    m = len(data) # size of data\n",
        "    div = divisors(m) # list of divisors of m (k values)\n",
        "    print(\"please choose a k value among the following:\") # ask user to choose a k value\n",
        "    for e in div: # print divisors of m (allowed k values)\n",
        "        print(e, end=\" \")\n",
        "    print()\n",
        "    k = int(input()) # read k value from user\n",
        "    for i in range(k): # for each partition\n",
        "        l = list() # list of data points in the partition\n",
        "        while len(l) < int(m/k): # while the partition is not full\n",
        "            ind = randrange(len(data_)) # choose a random index\n",
        "            l.append(data_.pop(ind)) # add the data point at the index to the partition\n",
        "        partitions.append(l) # add the partition to the list of partitions\n",
        "    return np.asarray(partitions)"
      ],
      "metadata": {
        "id": "q44gtF80gSMT"
      },
      "execution_count": null,
      "outputs": []
    }
  ]
}